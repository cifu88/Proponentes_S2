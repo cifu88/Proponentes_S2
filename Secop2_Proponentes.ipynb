{
 "cells": [
  {
   "attachments": {},
   "cell_type": "markdown",
   "metadata": {},
   "source": [
    "- Se debe capturar el código de las UT o consorcios a los que pertenece y el nombre.\n",
    "- Generar tablas de base de datos relacionales.\n",
    "- Hacerle seguimiento a esto.\n",
    "- Hacer interfaz gráfica."
   ]
  },
  {
   "cell_type": "code",
   "execution_count": null,
   "metadata": {},
   "outputs": [],
   "source": [
    "from flask import Flask, request, make_response, redirect, render_template\n",
    "from selenium import webdriver\n",
    "from selenium.webdriver.common.by import By\n",
    "from selenium.webdriver.common.keys import Keys\n",
    "from selenium.webdriver.support import expected_conditions as EC\n",
    "from selenium.common.exceptions import NoSuchElementException\n",
    "import time\n",
    "import pandas as pd\n",
    "import psycopg2\n",
    "import numpy as np"
   ]
  },
  {
   "cell_type": "code",
   "execution_count": null,
   "metadata": {},
   "outputs": [],
   "source": [
    "directorio = []"
   ]
  },
  {
   "cell_type": "code",
   "execution_count": null,
   "metadata": {},
   "outputs": [],
   "source": [
    "try:\n",
    "    connection = psycopg2.connect(\n",
    "        host='localhost',\n",
    "        user='postgres',\n",
    "        password='Santi913752',\n",
    "        database='Proponentes'\n",
    "    )\n",
    "    print(\"Conectado\")\n",
    "    #Contrato\n",
    "    cursor = connection.cursor()\n",
    "    cursor.execute('SELECT cod_num FROM public.\"Codigos_s2\"')\n",
    "    for fila in cursor:\n",
    "        codigo = str(fila[0])\n",
    "        directorio.append(codigo)\n",
    "        print(type(codigo))\n",
    "except Exception as ex:\n",
    "    print(ex)\n",
    "finally:\n",
    "    connection.close()"
   ]
  },
  {
   "cell_type": "code",
   "execution_count": null,
   "metadata": {},
   "outputs": [],
   "source": [
    "directorio"
   ]
  },
  {
   "cell_type": "code",
   "execution_count": null,
   "metadata": {},
   "outputs": [],
   "source": [
    "url_secop_proponentes = 'https://community.secop.gov.co/Directory/Profile/'\n",
    "urls = []\n",
    "for i in directorio:\n",
    "    nuevo = url_secop_proponentes + i\n",
    "    urls.append(nuevo)\n",
    "    print(nuevo)"
   ]
  },
  {
   "cell_type": "code",
   "execution_count": null,
   "metadata": {},
   "outputs": [],
   "source": [
    "url_secop_proponentes = 'https://community.secop.gov.co/Directory/Profile/709188155'\n",
    "url2 = 'https://community.secop.gov.co/Directory/Profile/721719110'\n",
    "options = webdriver.ChromeOptions()\n",
    "options.add_argument('--incognito')\n",
    "driver = webdriver.Chrome(options=options)\n",
    "driver.get(url_secop_proponentes)\n",
    "time.sleep(2)"
   ]
  },
  {
   "cell_type": "code",
   "execution_count": null,
   "metadata": {},
   "outputs": [],
   "source": [
    "user = 'cifu888'\n",
    "passw = 'Cifu06022002;::'\n",
    "input_user = driver.find_element(by=By.XPATH, value='//*[@id=\"txtUserName\"]').send_keys(user)\n",
    "input_passw = driver.find_element(by=By.XPATH, value='//*[@id=\"txtPassword\"]').send_keys(passw)\n",
    "Btn_Entrar = driver.find_element(by=By.XPATH, value='//*[@id=\"btnLoginButton\"]').click()"
   ]
  },
  {
   "attachments": {},
   "cell_type": "markdown",
   "metadata": {},
   "source": [
    "## Variables\n"
   ]
  },
  {
   "attachments": {},
   "cell_type": "markdown",
   "metadata": {},
   "source": [
    "### Contratistas:"
   ]
  },
  {
   "cell_type": "code",
   "execution_count": null,
   "metadata": {},
   "outputs": [],
   "source": [
    "url_usuario = []\n",
    "proponentes_plurales = []\n",
    "nombre_entidad = []\n",
    "nombre_abreviado = []\n",
    "tipo_doc = []\n",
    "numero_doc = []\n",
    "tipo_entidad = []\n",
    "nom_rep_legal = []\n",
    "id_rep_legal = []\n",
    "nacionalidad_rep_legal = []\n",
    "domicilio_rep_legal = []\n",
    "tipo_documento_rep_legal = []\n",
    "genero_rep_legal = []\n",
    "mipyme = []\n",
    "tamaño_empresarial = []\n",
    "regimen_tributario = []\n",
    "emprendimiento_mujer = []\n",
    "pais = []\n",
    "ubicacion = []\n",
    "cod_postal = []\n",
    "correo_electronico_oficina = []\n",
    "tel_oficina = []\n",
    "fax_oficina = []\n",
    "pag_web = []\n",
    "Lista_Xpath = [\n",
    "    '//*[@id=\"frmMainForm_tblFormContainer_trContentRow_tdLeftColumn_divViewProfilePerspective_tblProfileDetails_trIsNotGroupContentRow_tdTitleCell\"]', #0ProponentesPlurales\n",
    "    '//*[@id=\"spnLegalName_0_0\"]',#1NombreEntidad \n",
    "    '//*[@id=\"spnCommercialName_0_1\"]',#2NombreAbreviado\n",
    "    '//*[@id=\"selTypeOfDocument_0_2\"]',#3TipoDoc\n",
    "    '//*[@id=\"spnVAT_0_3\"]',#4NumDoc\n",
    "    '//*[@id=\"spnCompanyType_0_4\"]',#5TipoEntidad\n",
    "    '//*[@id=\"spnCustomTextBox_1_0\"]',#6NomRepLegal\n",
    "    '//*[@id=\"spnCustomTextBox_1_1\"]',#7IdRepLegal\n",
    "    '//*[@id=\"spnCustomTextBox_1_2\"]', #8NacionalidadRepLegal\n",
    "    '//*[@id=\"spnCustomTextBox_1_3\"]',#9DomicilioRepLegal\n",
    "    '//*[@id=\"spnCustomSelectOptionValue_1_4\"]',#10TipoDocRepLegal\n",
    "    '//*[@id=\"spnCustomSelectOptionValue_1_5\"]',#11GeneroRepLegal\n",
    "    '//*[@id=\"spnIsSmallCompany_2_0\"]',#12MiPymes\n",
    "    '//*[@id=\"spnCompanySize_2_0\"]',#13TamañoEmpresarial\n",
    "    '//*[@id=\"selTaxSystem_2_1\"]',#14RegimenTributario\n",
    "    '//*[@id=\"rdbgCustomTrueOrFalse_2_2_0\"]',#15EmprendimientoMujer\n",
    "    '//*[@id=\"txtCountryElement_3_0\"]',#16Pais\n",
    "    '//*[@id=\"spnLocationElement1_3_1\"]',#17Ubicacion\n",
    "    '//*[@id=\"spnLocationElement2_3_1\"]',#18Departamento\n",
    "    '//*[@id=\"spnLocationElement3_3_1\"]',#19Municipio\n",
    "    '//*[@id=\"spnZipCode_3_2\"]',#20CodPostal\n",
    "    '//*[@id=\"spnEmail_3_3\"]',#21CorreoElectronico\n",
    "    '//*[@id=\"spnPhone_3_4\"]',#22Telefono\n",
    "    '//*[@id=\"spnFax_3_5\"]',#23Fax\n",
    "    '//*[@id=\"spnWebAddress_3_6\"]'#24PagWeb\n",
    "]"
   ]
  },
  {
   "attachments": {},
   "cell_type": "markdown",
   "metadata": {},
   "source": [
    "### Uniones temporales o Consorcios:"
   ]
  },
  {
   "cell_type": "code",
   "execution_count": null,
   "metadata": {},
   "outputs": [],
   "source": [
    "nom_pro_plu = []\n",
    "nom_abr_pro_plu = []\n",
    "tip_ent_pro_plu = []\n",
    "ubi_pro_plu = []\n",
    "email_pro_plu = []\n",
    "tel_pro_plu = []\n",
    "url_pro_plu = []\n",
    "Lista_Xpath_pro_plu = ['//*[@id=\"spnLegalName_0_0\"]',\n",
    "                       '//*[@id=\"spnCommercialName_0_1\"]',\n",
    "                       '//*[@id=\"frmMainForm_tblFormContainer_trContentRow_tdLeftColumn_divViewProfilePerspective_tblProfileDetails_trIsGroupContentRow_tdTitleCell_rptIsGroupRepeater_rpteIsGroupConditionalElements_lnkIsGroupConditionalSpan_0\"]',\n",
    "                       '//*[@id=\"spnCompanyType_0_4\"]',\n",
    "                        '//*[@id=\"spnLocationElement1_3_1\"]',\n",
    "                        '//*[@id=\"spnEmail_3_3\"]',\n",
    "                        '//*[@id=\"spnPhone_3_4\"]']"
   ]
  },
  {
   "attachments": {},
   "cell_type": "markdown",
   "metadata": {},
   "source": [
    "### Tabla de unión:"
   ]
  },
  {
   "cell_type": "code",
   "execution_count": null,
   "metadata": {},
   "outputs": [],
   "source": [
    "cod_pro_plu = []\n",
    "cod_contratista = []\n",
    "porc_contratista = []\n",
    "jefe = []"
   ]
  },
  {
   "cell_type": "code",
   "execution_count": null,
   "metadata": {},
   "outputs": [],
   "source": [
    "def validar(Lista_Xpath, Lista_Guardar):\n",
    "    for Xpath in Lista_Xpath:\n",
    "        try:\n",
    "            elemen = driver.find_element(by=By.XPATH, value=Xpath)\n",
    "            Lista_Guardar.append(elemen.text)\n",
    "        except NoSuchElementException:\n",
    "            elemen = 'N/A'\n",
    "            Lista_Guardar.append(elemen)\n",
    "    return(Lista_Guardar)"
   ]
  },
  {
   "cell_type": "code",
   "execution_count": null,
   "metadata": {},
   "outputs": [],
   "source": [
    "\"\"\"for proponente in urls:\n",
    "    options = webdriver.ChromeOptions()\n",
    "    options.add_argument('--incognito')\n",
    "    driver = webdriver.Chrome(options=options)\n",
    "    driver.get(proponente)\n",
    "    time.sleep(2)\n",
    "    time.sleep(5)\"\"\"\n",
    "lista_proponente = []\n",
    "validar(Lista_Xpath,lista_proponente)\n",
    "url_usuario.append(driver.current_url)\n",
    "for i in range (len(lista_proponente)):\n",
    "    if i == 0:\n",
    "        proponentes=driver.find_elements(by=By.XPATH, value='//*[@id=\"frmMainForm_tblFormContainer_trContentRow_tdLeftColumn_divViewProfilePerspective_tblProfileDetails_trIsNotGroupContentRow_tdTitleCell\"]')\n",
    "        if len(proponentes) > 1:\n",
    "            conjunto_proponentes = []\n",
    "            for proponente in proponentes:\n",
    "                conjunto_proponentes.append(proponente.text)\n",
    "                proponentes_plurales.append(conjunto_proponentes)\n",
    "            \"\"\"for pro_plu in range(len(proponentes_plurales)):\n",
    "                driver.find_element(by=By.XPATH(f'//*[@id=\"lnkIsNotGroupConditionalSpan_{pro_plu}\"]'))\n",
    "                time.sleep(2)\n",
    "                nom_pro_plu.append()\"\"\"                              \n",
    "        else:\n",
    "            proponentes_plurales.append(lista_proponente[i])\n",
    "    elif i == 1:\n",
    "            nombre_entidad.append(lista_proponente[i])\n",
    "    elif i == 2:\n",
    "            nombre_abreviado.append(lista_proponente[i])\n",
    "    elif i == 3:\n",
    "            tipo_doc.append(lista_proponente[i])\n",
    "    elif i == 4:\n",
    "            numero_doc.append(lista_proponente[i])\n",
    "    elif i == 5:\n",
    "            tipo_entidad.append(lista_proponente[i])\n",
    "    elif i == 6:\n",
    "            nom_rep_legal.append(lista_proponente[i])\n",
    "    elif i == 7:\n",
    "            id_rep_legal.append(lista_proponente[i])\n",
    "    elif i == 8:\n",
    "            nacionalidad_rep_legal.append(lista_proponente[i])\n",
    "    elif i == 9:\n",
    "            domicilio_rep_legal.append(lista_proponente[i])\n",
    "    elif i == 10:\n",
    "            tipo_documento_rep_legal.append(lista_proponente[i])\n",
    "    elif i == 11:\n",
    "            genero_rep_legal.append(lista_proponente[i])\n",
    "    elif i == 12:\n",
    "            mipyme.append(lista_proponente[i])\n",
    "    elif i == 13:\n",
    "            tamaño_empresarial.append(lista_proponente[i])\n",
    "    elif i == 14:\n",
    "            regimen_tributario.append(lista_proponente[i])\n",
    "    elif i == 15:\n",
    "            try:\n",
    "                mujer = driver.find_element(by=By.XPATH, value='//*[@id=\"rdbgCustomTrueOrFalse_2_2_0\"]').get_attribute(name='checked')\n",
    "                if mujer == True:    \n",
    "                    emprendimiento_mujer.append('Si')\n",
    "                else:\n",
    "                    emprendimiento_mujer.append('No')\n",
    "            except Exception as ex:\n",
    "                print(ex)\n",
    "    elif i == 16:\n",
    "            pais.append(lista_proponente[i])\n",
    "    elif i == 17:\n",
    "            ubi = lista_proponente[i]\n",
    "            if lista_proponente[18] != 'N/A':\n",
    "                ubi += \"\" + lista_proponente[18]\n",
    "            if lista_proponente[19] != 'N/A':\n",
    "                ubi += \"\" + lista_proponente[19]\n",
    "            ubi = ubi.replace('N/A',\"\")\n",
    "            ubicacion.append(ubi)\n",
    "    elif i == 20:\n",
    "            cod_postal.append(lista_proponente[i])\n",
    "    elif i == 21:\n",
    "            correo_electronico_oficina.append(lista_proponente[i])\n",
    "    elif i == 22:\n",
    "            tel_oficina.append(lista_proponente[i])\n",
    "    elif i == 23:\n",
    "            fax_oficina.append(lista_proponente[i])\n",
    "    elif i == 24:\n",
    "            pag_web.append(lista_proponente[i])\n",
    "\n",
    "driver.close()"
   ]
  },
  {
   "cell_type": "code",
   "execution_count": null,
   "metadata": {},
   "outputs": [],
   "source": [
    "valores= {\n",
    "    'Url usuario':url_usuario,\n",
    "    'Proponentes plurales':proponentes_plurales,\n",
    "    'Nombre entidad':nombre_entidad,\n",
    "    'Nombre abreviado':nombre_abreviado,\n",
    "    'Tipo documento':tipo_doc,\n",
    "    'Numero documento':numero_doc,\n",
    "    'Tipo entidad':tipo_entidad,\n",
    "    'Representante legal':nom_rep_legal,\n",
    "    'Doc representante legal':id_rep_legal,\n",
    "    'Nacionalidad Representante legal':nacionalidad_rep_legal,\n",
    "    'Domicilio representante legal':domicilio_rep_legal,\n",
    "    'Tipo documento rep legal':tipo_documento_rep_legal,\n",
    "    'genero':genero_rep_legal,\n",
    "    'MiPymes':mipyme,\n",
    "    'Tamaño empresarial':tamaño_empresarial,\n",
    "    'Regimen tributario':regimen_tributario,\n",
    "    'Emprendimiento mujer':emprendimiento_mujer,\n",
    "    'Pais':pais,\n",
    "    'Ubicacion':ubicacion,\n",
    "    'Codigo postal':cod_postal,\n",
    "    'Correo':correo_electronico_oficina,\n",
    "    'Telefono':tel_oficina,\n",
    "    'Fax':fax_oficina,\n",
    "    'Pagina':pag_web,\n",
    "}\n",
    "\n",
    "df_secopii = pd.DataFrame(valores)"
   ]
  },
  {
   "cell_type": "code",
   "execution_count": null,
   "metadata": {},
   "outputs": [],
   "source": [
    "df_secopii"
   ]
  },
  {
   "cell_type": "code",
   "execution_count": null,
   "metadata": {},
   "outputs": [],
   "source": [
    "print(len(url_usuario))\n",
    "print(len(proponentes_plurales))\n",
    "print(len(nombre_entidad))\n",
    "print(len(nombre_abreviado))\n",
    "print(len(tipo_doc))\n",
    "print(len(numero_doc))\n",
    "print(len(tipo_entidad))\n",
    "print(len(nom_rep_legal))\n",
    "print(len(id_rep_legal))\n",
    "print(len(nacionalidad_rep_legal))\n",
    "print(len(domicilio_rep_legal))\n",
    "print(len(tipo_documento_rep_legal))\n",
    "print(len(genero_rep_legal))\n",
    "print(len(mipyme))\n",
    "print(len(tamaño_empresarial))\n",
    "print(len(regimen_tributario))\n",
    "print(len(emprendimiento_mujer))\n",
    "print(len(pais))\n",
    "print(len(ubicacion))\n",
    "print(len(cod_postal))\n",
    "print(len(correo_electronico_oficina))\n",
    "print(len(tel_oficina))\n",
    "print(len(fax_oficina))\n",
    "print(len(pag_web))"
   ]
  }
 ],
 "metadata": {
  "kernelspec": {
   "display_name": "Python 3",
   "language": "python",
   "name": "python3"
  },
  "language_info": {
   "codemirror_mode": {
    "name": "ipython",
    "version": 3
   },
   "file_extension": ".py",
   "mimetype": "text/x-python",
   "name": "python",
   "nbconvert_exporter": "python",
   "pygments_lexer": "ipython3",
   "version": "3.11.3"
  },
  "orig_nbformat": 4
 },
 "nbformat": 4,
 "nbformat_minor": 2
}
